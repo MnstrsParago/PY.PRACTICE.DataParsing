{
 "cells": [
  {
   "cell_type": "code",
   "execution_count": 3,
   "id": "918444ea-1c4d-4fe3-90e5-be95fd55b285",
   "metadata": {},
   "outputs": [],
   "source": [
    "#2\n",
    "class Users:\n",
    "    def __init__(self, name, surname, year, email):\n",
    "        self.n = name\n",
    "        self.s =surname\n",
    "        self.y = year\n",
    "        self.em = email\n",
    "    def getAge(self):\n",
    "        return 2023-self.y"
   ]
  },
  {
   "cell_type": "code",
   "execution_count": 4,
   "id": "5a379e09-95d7-43cd-ad7e-f7dbe3dd7392",
   "metadata": {},
   "outputs": [],
   "source": [
    "#4.\n",
    "def filter(l=30, h=50, us=None):\n",
    "    for u in us or []:\n",
    "        a=u.getAge()\n",
    "        if l < a < h:\n",
    "            print(u.em, \",\", a, \"\\n\")"
   ]
  },
  {
   "cell_type": "code",
   "execution_count": null,
   "id": "19405801-d872-40f9-9409-1264a80dd412",
   "metadata": {},
   "outputs": [],
   "source": [
    "try:\n",
    "    with open()"
   ]
  }
 ],
 "metadata": {
  "kernelspec": {
   "display_name": "Python 3 (ipykernel)",
   "language": "python",
   "name": "python3"
  },
  "language_info": {
   "codemirror_mode": {
    "name": "ipython",
    "version": 3
   },
   "file_extension": ".py",
   "mimetype": "text/x-python",
   "name": "python",
   "nbconvert_exporter": "python",
   "pygments_lexer": "ipython3",
   "version": "3.13.5"
  }
 },
 "nbformat": 4,
 "nbformat_minor": 5
}
