{
 "cells": [
  {
   "cell_type": "code",
   "execution_count": 56,
   "id": "74d1d571-327f-4cbe-996a-64ec43ee4bcf",
   "metadata": {},
   "outputs": [
    {
     "name": "stdout",
     "output_type": "stream",
     "text": [
      "1,Magzhan,Kairanbay,magzhan.kairanbay@gmail.com,1991\n",
      "2,John,See,john.see@gmail.com,1981\n",
      "3,Lim,Kim,lim.kim@gmail.com,1997\n",
      "4,Andrew,Ng,andrew.ng@gmail.com,1971\n",
      "5,Andrey,Karpathy,andrey.karpathy@gmail.com,1981\n",
      "6,Jackie,Chan,jeckie.chan@gmail.com,1951\n",
      "7,Clarence,Lim,clarence.lim@gmail.com,1985\n",
      "8,Ryan,Jack,ryan.jack@gmail.com,1994\n",
      "9,Jonattan,Clark,jonattan.clark@gmail.com,2000\n",
      "10,Chris,Brown,chris.brown@gmail.com,1989\n",
      "11,Justin,Bieber,justin.bieber@gmail.com,1992\n"
     ]
    }
   ],
   "source": [
    "#1.\n",
    "try:\n",
    "    with open('file.txt', 'r') as f:\n",
    "        for l in f:\n",
    "            print(l.strip())    \n",
    "except FileNotFoundError:\n",
    "    print(\"the file that you would like to read is not found\")\n",
    "except:\n",
    "    print(\"some error ocured\")"
   ]
  },
  {
   "cell_type": "code",
   "execution_count": 57,
   "id": "918444ea-1c4d-4fe3-90e5-be95fd55b285",
   "metadata": {},
   "outputs": [],
   "source": [
    "#2\n",
    "class Users:\n",
    "    def __init__(self, name, surname, email, year):\n",
    "        self.n = name\n",
    "        self.s =surname\n",
    "        self.em = email\n",
    "        self.y = int(year)\n",
    "    def getAge(self):\n",
    "        return 2023-self.y"
   ]
  },
  {
   "cell_type": "code",
   "execution_count": 58,
   "id": "19405801-d872-40f9-9409-1264a80dd412",
   "metadata": {},
   "outputs": [],
   "source": [
    "#3.\n",
    "lst = []\n",
    "try:\n",
    "    with open('file.txt', 'r') as f:\n",
    "        for l in f:\n",
    "            t = l.split(',')\n",
    "            lst.append(Users(t[1].strip(),t[2].strip(),t[3].strip(),t[4].strip()))\n",
    "except FileNotFoundError:\n",
    "    print(\"the file that you would like to read is not found\")\n",
    "except:\n",
    "    print(\"some error ocured\")"
   ]
  },
  {
   "cell_type": "code",
   "execution_count": 59,
   "id": "5a379e09-95d7-43cd-ad7e-f7dbe3dd7392",
   "metadata": {},
   "outputs": [],
   "source": [
    "#4.\n",
    "def filter(us, l=30, h=50):\n",
    "    for u in us:\n",
    "        a=u.getAge()\n",
    "        if l < a < h:\n",
    "            print(f\"{u.em}, {a}\")"
   ]
  },
  {
   "cell_type": "code",
   "execution_count": 60,
   "id": "b67abb4e-f415-4621-8003-f8b867116ebd",
   "metadata": {},
   "outputs": [
    {
     "name": "stdout",
     "output_type": "stream",
     "text": [
      "Данного юзера зовут - Magzhan, и фамилия - Kairanbay. Если хотите обратиться по почте: magzhan.kairanbay@gmail.com ; Также этот человека 1991 года\n",
      "Данного юзера зовут - John, и фамилия - See. Если хотите обратиться по почте: john.see@gmail.com ; Также этот человека 1981 года\n",
      "Данного юзера зовут - Lim, и фамилия - Kim. Если хотите обратиться по почте: lim.kim@gmail.com ; Также этот человека 1997 года\n",
      "Данного юзера зовут - Andrew, и фамилия - Ng. Если хотите обратиться по почте: andrew.ng@gmail.com ; Также этот человека 1971 года\n",
      "Данного юзера зовут - Andrey, и фамилия - Karpathy. Если хотите обратиться по почте: andrey.karpathy@gmail.com ; Также этот человека 1981 года\n",
      "Данного юзера зовут - Jackie, и фамилия - Chan. Если хотите обратиться по почте: jeckie.chan@gmail.com ; Также этот человека 1951 года\n",
      "Данного юзера зовут - Clarence, и фамилия - Lim. Если хотите обратиться по почте: clarence.lim@gmail.com ; Также этот человека 1985 года\n",
      "Данного юзера зовут - Ryan, и фамилия - Jack. Если хотите обратиться по почте: ryan.jack@gmail.com ; Также этот человека 1994 года\n",
      "Данного юзера зовут - Jonattan, и фамилия - Clark. Если хотите обратиться по почте: jonattan.clark@gmail.com ; Также этот человека 2000 года\n",
      "Данного юзера зовут - Chris, и фамилия - Brown. Если хотите обратиться по почте: chris.brown@gmail.com ; Также этот человека 1989 года\n",
      "Данного юзера зовут - Justin, и фамилия - Bieber. Если хотите обратиться по почте: justin.bieber@gmail.com ; Также этот человека 1992 года\n"
     ]
    }
   ],
   "source": [
    "for u in lst:\n",
    "    print(f\"Данного юзера зовут - {u.n}, и фамилия - {u.s}. Если хотите обратиться по почте: {u.em} ; Также этот человека {u.y} года\")"
   ]
  },
  {
   "cell_type": "code",
   "execution_count": 61,
   "id": "b07a5bd2-84f3-42d6-b8a0-e937199bb293",
   "metadata": {},
   "outputs": [
    {
     "name": "stdout",
     "output_type": "stream",
     "text": [
      "magzhan.kairanbay@gmail.com, 32\n",
      "john.see@gmail.com, 42\n",
      "andrey.karpathy@gmail.com, 42\n",
      "clarence.lim@gmail.com, 38\n",
      "chris.brown@gmail.com, 34\n",
      "justin.bieber@gmail.com, 31\n"
     ]
    }
   ],
   "source": [
    "filter(lst)"
   ]
  }
 ],
 "metadata": {
  "kernelspec": {
   "display_name": "Python 3 (ipykernel)",
   "language": "python",
   "name": "python3"
  },
  "language_info": {
   "codemirror_mode": {
    "name": "ipython",
    "version": 3
   },
   "file_extension": ".py",
   "mimetype": "text/x-python",
   "name": "python",
   "nbconvert_exporter": "python",
   "pygments_lexer": "ipython3",
   "version": "3.13.5"
  }
 },
 "nbformat": 4,
 "nbformat_minor": 5
}
