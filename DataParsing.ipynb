{
 "cells": [
  {
   "cell_type": "code",
   "execution_count": 3,
   "id": "918444ea-1c4d-4fe3-90e5-be95fd55b285",
   "metadata": {},
   "outputs": [],
   "source": [
    "class Users:\n",
    "    def __init__(self, name, surname, year, email):\n",
    "        self.n = name\n",
    "        self.s =surname\n",
    "        self.y = year\n",
    "        self.em = email\n",
    "    def getAge(self):\n",
    "        return 2023-self.y"
   ]
  },
  {
   "cell_type": "code",
   "execution_count": null,
   "id": "5a379e09-95d7-43cd-ad7e-f7dbe3dd7392",
   "metadata": {},
   "outputs": [],
   "source": []
  }
 ],
 "metadata": {
  "kernelspec": {
   "display_name": "Python 3 (ipykernel)",
   "language": "python",
   "name": "python3"
  },
  "language_info": {
   "codemirror_mode": {
    "name": "ipython",
    "version": 3
   },
   "file_extension": ".py",
   "mimetype": "text/x-python",
   "name": "python",
   "nbconvert_exporter": "python",
   "pygments_lexer": "ipython3",
   "version": "3.13.5"
  }
 },
 "nbformat": 4,
 "nbformat_minor": 5
}
