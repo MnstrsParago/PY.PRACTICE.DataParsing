{
 "cells": [
  {
   "cell_type": "code",
   "execution_count": 6,
   "id": "74d1d571-327f-4cbe-996a-64ec43ee4bcf",
   "metadata": {},
   "outputs": [
    {
     "name": "stdout",
     "output_type": "stream",
     "text": [
      "1,Magzhan,Kairanbay,magzhan.kairanbay@gmail.com,1991\n",
      "2,John,See,john.see@gmail.com,1981\n",
      "3,Lim,Kim,lim.kim@gmail.com,1997\n",
      "4,Andrew,Ng,andrew.ng@gmail.com,1971\n",
      "5,Andrey,Karpathy,andrey.karpathy@gmail.com,1981\n",
      "6,Jackie,Chan,jeckie.chan@gmail.com,1951\n",
      "7,Clarence,Lim,clarence.lim@gmail.com,1985\n",
      "8,Ryan,Jack,ryan.jack@gmail.com,1994\n",
      "9,Jonattan,Clark,jonattan.clark@gmail.com,2000\n",
      "10,Chris,Brown,chris.brown@gmail.com,1989\n",
      "11,Justin,Bieber,justin.bieber@gmail.com,1992\n"
     ]
    }
   ],
   "source": [
    "#1.\n",
    "try:\n",
    "    with open(\"file.txt\", \"r\") as f:\n",
    "        for l in f:\n",
    "            print(l.strip())    \n",
    "except:\n",
    "    print(\"some error occured\")"
   ]
  },
  {
   "cell_type": "code",
   "execution_count": 7,
   "id": "918444ea-1c4d-4fe3-90e5-be95fd55b285",
   "metadata": {},
   "outputs": [],
   "source": [
    "#2\n",
    "class Users:\n",
    "    def __init__(self, name, surname, year, email):\n",
    "        self.n = name\n",
    "        self.s =surname\n",
    "        self.y = year\n",
    "        self.em = email\n",
    "    def getAge(self):\n",
    "        return 2023-self.y"
   ]
  },
  {
   "cell_type": "code",
   "execution_count": 8,
   "id": "5a379e09-95d7-43cd-ad7e-f7dbe3dd7392",
   "metadata": {},
   "outputs": [],
   "source": [
    "#4.\n",
    "def filter(l=30, h=50, us=None):\n",
    "    for u in us or []:\n",
    "        a=u.getAge()\n",
    "        if l < a < h:\n",
    "            print(u.em, \",\", a, \"\\n\")"
   ]
  },
  {
   "cell_type": "code",
   "execution_count": null,
   "id": "19405801-d872-40f9-9409-1264a80dd412",
   "metadata": {},
   "outputs": [],
   "source": []
  }
 ],
 "metadata": {
  "kernelspec": {
   "display_name": "Python 3 (ipykernel)",
   "language": "python",
   "name": "python3"
  },
  "language_info": {
   "codemirror_mode": {
    "name": "ipython",
    "version": 3
   },
   "file_extension": ".py",
   "mimetype": "text/x-python",
   "name": "python",
   "nbconvert_exporter": "python",
   "pygments_lexer": "ipython3",
   "version": "3.13.5"
  }
 },
 "nbformat": 4,
 "nbformat_minor": 5
}
